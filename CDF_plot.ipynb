{
 "cells": [
  {
   "cell_type": "code",
   "execution_count": 1,
   "metadata": {},
   "outputs": [],
   "source": [
    "import sgkit as sg\n",
    "import pandas as pd\n",
    "import numpy as np\n",
    "import zarr\n",
    "import xarray as xr\n",
    "import allel"
   ]
  },
  {
   "cell_type": "code",
   "execution_count": 8,
   "metadata": {},
   "outputs": [
    {
     "name": "stderr",
     "output_type": "stream",
     "text": [
      "/var/folders/q8/dr87dk09659gc3y8clyw58lw0000gn/T/ipykernel_972/2911494923.py:1: ParserWarning: Falling back to the 'python' engine because the 'c' engine does not support regex separators (separators > 1 char and different from '\\s+' are interpreted as regex); you can avoid this warning by specifying engine='python'.\n",
      "  df= pd.read_csv('/Users/christinagkertsou/Desktop/Pleaseworkwork.csv', sep='\\,')\n"
     ]
    }
   ],
   "source": [
    "df= pd.read_csv('/Users/christinagkertsou/Desktop/Allgenes.csv', sep='\\,')"
   ]
  },
  {
   "cell_type": "code",
   "execution_count": 9,
   "metadata": {},
   "outputs": [
    {
     "data": {
      "text/html": [
       "<div>\n",
       "<style scoped>\n",
       "    .dataframe tbody tr th:only-of-type {\n",
       "        vertical-align: middle;\n",
       "    }\n",
       "\n",
       "    .dataframe tbody tr th {\n",
       "        vertical-align: top;\n",
       "    }\n",
       "\n",
       "    .dataframe thead th {\n",
       "        text-align: right;\n",
       "    }\n",
       "</style>\n",
       "<table border=\"1\" class=\"dataframe\">\n",
       "  <thead>\n",
       "    <tr style=\"text-align: right;\">\n",
       "      <th></th>\n",
       "      <th>Unnamed: 0</th>\n",
       "      <th>gene_id</th>\n",
       "      <th>SNPs</th>\n",
       "      <th>selected_hets</th>\n",
       "      <th>Ratio</th>\n",
       "      <th>Chromosome</th>\n",
       "    </tr>\n",
       "  </thead>\n",
       "  <tbody>\n",
       "    <tr>\n",
       "      <th>0</th>\n",
       "      <td>1453</td>\n",
       "      <td>AGAP002705</td>\n",
       "      <td>34</td>\n",
       "      <td>31</td>\n",
       "      <td>0.911765</td>\n",
       "      <td>2R</td>\n",
       "    </tr>\n",
       "    <tr>\n",
       "      <th>1</th>\n",
       "      <td>1059</td>\n",
       "      <td>AGAP002283</td>\n",
       "      <td>25</td>\n",
       "      <td>21</td>\n",
       "      <td>0.840000</td>\n",
       "      <td>2R</td>\n",
       "    </tr>\n",
       "    <tr>\n",
       "      <th>2</th>\n",
       "      <td>2295</td>\n",
       "      <td>AGAP007170</td>\n",
       "      <td>17</td>\n",
       "      <td>13</td>\n",
       "      <td>0.764706</td>\n",
       "      <td>2L</td>\n",
       "    </tr>\n",
       "    <tr>\n",
       "      <th>3</th>\n",
       "      <td>1432</td>\n",
       "      <td>AGAP002680</td>\n",
       "      <td>53</td>\n",
       "      <td>40</td>\n",
       "      <td>0.754717</td>\n",
       "      <td>2R</td>\n",
       "    </tr>\n",
       "    <tr>\n",
       "      <th>4</th>\n",
       "      <td>1063</td>\n",
       "      <td>AGAP002287</td>\n",
       "      <td>8</td>\n",
       "      <td>6</td>\n",
       "      <td>0.750000</td>\n",
       "      <td>2R</td>\n",
       "    </tr>\n",
       "    <tr>\n",
       "      <th>...</th>\n",
       "      <td>...</td>\n",
       "      <td>...</td>\n",
       "      <td>...</td>\n",
       "      <td>...</td>\n",
       "      <td>...</td>\n",
       "      <td>...</td>\n",
       "    </tr>\n",
       "    <tr>\n",
       "      <th>779</th>\n",
       "      <td>2565</td>\n",
       "      <td>AGAP007474</td>\n",
       "      <td>178</td>\n",
       "      <td>1</td>\n",
       "      <td>0.005618</td>\n",
       "      <td>2L</td>\n",
       "    </tr>\n",
       "    <tr>\n",
       "      <th>780</th>\n",
       "      <td>724</td>\n",
       "      <td>AGAP000865</td>\n",
       "      <td>192</td>\n",
       "      <td>1</td>\n",
       "      <td>0.005208</td>\n",
       "      <td>X</td>\n",
       "    </tr>\n",
       "    <tr>\n",
       "      <th>781</th>\n",
       "      <td>1033</td>\n",
       "      <td>AGAP008899</td>\n",
       "      <td>266</td>\n",
       "      <td>1</td>\n",
       "      <td>0.003759</td>\n",
       "      <td>3R</td>\n",
       "    </tr>\n",
       "    <tr>\n",
       "      <th>782</th>\n",
       "      <td>2689</td>\n",
       "      <td>AGAP029511</td>\n",
       "      <td>269</td>\n",
       "      <td>1</td>\n",
       "      <td>0.003717</td>\n",
       "      <td>3R</td>\n",
       "    </tr>\n",
       "    <tr>\n",
       "      <th>783</th>\n",
       "      <td>672</td>\n",
       "      <td>AGAP008482</td>\n",
       "      <td>364</td>\n",
       "      <td>1</td>\n",
       "      <td>0.002747</td>\n",
       "      <td>3R</td>\n",
       "    </tr>\n",
       "  </tbody>\n",
       "</table>\n",
       "<p>784 rows × 6 columns</p>\n",
       "</div>"
      ],
      "text/plain": [
       "     Unnamed: 0     gene_id  SNPs  selected_hets     Ratio Chromosome\n",
       "0          1453  AGAP002705    34             31  0.911765         2R\n",
       "1          1059  AGAP002283    25             21  0.840000         2R\n",
       "2          2295  AGAP007170    17             13  0.764706         2L\n",
       "3          1432  AGAP002680    53             40  0.754717         2R\n",
       "4          1063  AGAP002287     8              6  0.750000         2R\n",
       "..          ...         ...   ...            ...       ...        ...\n",
       "779        2565  AGAP007474   178              1  0.005618         2L\n",
       "780         724  AGAP000865   192              1  0.005208          X\n",
       "781        1033  AGAP008899   266              1  0.003759         3R\n",
       "782        2689  AGAP029511   269              1  0.003717         3R\n",
       "783         672  AGAP008482   364              1  0.002747         3R\n",
       "\n",
       "[784 rows x 6 columns]"
      ]
     },
     "execution_count": 9,
     "metadata": {},
     "output_type": "execute_result"
    }
   ],
   "source": [
    "df"
   ]
  },
  {
   "cell_type": "code",
   "execution_count": 11,
   "metadata": {},
   "outputs": [],
   "source": [
    "df_red=df[\"Ratio\"]>=0.8"
   ]
  },
  {
   "cell_type": "code",
   "execution_count": 12,
   "metadata": {},
   "outputs": [
    {
     "data": {
      "text/plain": [
       "<AxesSubplot:xlabel='Ratio', ylabel='Proportion'>"
      ]
     },
     "execution_count": 12,
     "metadata": {},
     "output_type": "execute_result"
    },
    {
     "data": {
      "image/png": "[encoded data removed]",
      "text/plain": [
       "<Figure size 432x288 with 1 Axes>"
      ]
     },
     "metadata": {
      "needs_background": "light"
     },
     "output_type": "display_data"
    }
   ],
   "source": [
    "#CDF plot\n",
    "import seaborn as sns\n",
    "sns.ecdfplot(data=df, x=\"Ratio\", hue=\"Chromosome\")"
   ]
  },
  {
   "cell_type": "code",
   "execution_count": 14,
   "metadata": {},
   "outputs": [
    {
     "name": "stderr",
     "output_type": "stream",
     "text": [
      "/var/folders/q8/dr87dk09659gc3y8clyw58lw0000gn/T/ipykernel_972/1242486144.py:1: ParserWarning: Falling back to the 'python' engine because the 'c' engine does not support regex separators (separators > 1 char and different from '\\s+' are interpreted as regex); you can avoid this warning by specifying engine='python'.\n",
      "  df_2L= pd.read_csv('/Users/christinagkertsou/Desktop/Finalyearproject/Pleasework/2Lzeroo.csv', sep='\\,')\n"
     ]
    }
   ],
   "source": [
    "df_2L= pd.read_csv('/Users/christinagkertsou/Desktop/Finalyearproject/2Lzeroo.csv', sep='\\,')"
   ]
  },
  {
   "cell_type": "code",
   "execution_count": 15,
   "metadata": {},
   "outputs": [
    {
     "name": "stderr",
     "output_type": "stream",
     "text": [
      "/var/folders/q8/dr87dk09659gc3y8clyw58lw0000gn/T/ipykernel_972/4154811845.py:1: ParserWarning: Falling back to the 'python' engine because the 'c' engine does not support regex separators (separators > 1 char and different from '\\s+' are interpreted as regex); you can avoid this warning by specifying engine='python'.\n",
      "  df_2R=pd.read_csv('/Users/christinagkertsou/Desktop/Finalyearproject/Pleasework/2Rzero.csv', sep='\\,')\n"
     ]
    }
   ],
   "source": [
    "df_2R=pd.read_csv('/Users/christinagkertsou/Desktop/Finalyearproject/2Rzero.csv', sep='\\,')"
   ]
  },
  {
   "cell_type": "code",
   "execution_count": 16,
   "metadata": {},
   "outputs": [
    {
     "name": "stderr",
     "output_type": "stream",
     "text": [
      "/var/folders/q8/dr87dk09659gc3y8clyw58lw0000gn/T/ipykernel_972/4115462929.py:1: ParserWarning: Falling back to the 'python' engine because the 'c' engine does not support regex separators (separators > 1 char and different from '\\s+' are interpreted as regex); you can avoid this warning by specifying engine='python'.\n",
      "  df_3L=pd.read_csv('/Users/christinagkertsou/Desktop/Finalyearproject/Pleasework/3Lzero.csv', sep='\\,')\n"
     ]
    }
   ],
   "source": [
    "df_3L=pd.read_csv('/Users/christinagkertsou/Desktop/Finalyearproject/3Lzero.csv', sep='\\,')"
   ]
  },
  {
   "cell_type": "code",
   "execution_count": 17,
   "metadata": {},
   "outputs": [
    {
     "name": "stderr",
     "output_type": "stream",
     "text": [
      "/var/folders/q8/dr87dk09659gc3y8clyw58lw0000gn/T/ipykernel_972/788003328.py:1: ParserWarning: Falling back to the 'python' engine because the 'c' engine does not support regex separators (separators > 1 char and different from '\\s+' are interpreted as regex); you can avoid this warning by specifying engine='python'.\n",
      "  df_3R=pd.read_csv('/Users/christinagkertsou/Desktop/Finalyearproject/Pleasework/3Rzero.csv', sep='\\,')\n"
     ]
    }
   ],
   "source": [
    "df_3R=pd.read_csv('/Users/christinagkertsou/Desktop/Finalyearproject/3Rzero.csv', sep='\\,')"
   ]
  },
  {
   "cell_type": "code",
   "execution_count": 18,
   "metadata": {},
   "outputs": [
    {
     "name": "stderr",
     "output_type": "stream",
     "text": [
      "/var/folders/q8/dr87dk09659gc3y8clyw58lw0000gn/T/ipykernel_972/3601981156.py:1: ParserWarning: Falling back to the 'python' engine because the 'c' engine does not support regex separators (separators > 1 char and different from '\\s+' are interpreted as regex); you can avoid this warning by specifying engine='python'.\n",
      "  df_X=pd.read_csv('/Users/christinagkertsou/Desktop/Finalyearproject/Pleasework/Xzero.csv', sep='\\,')\n"
     ]
    }
   ],
   "source": [
    "df_X=pd.read_csv('/Users/christinagkertsou/Desktop/Finalyearproject/Xzero.csv', sep='\\,')"
   ]
  },
  {
   "cell_type": "code",
   "execution_count": 19,
   "metadata": {},
   "outputs": [
    {
     "data": {
      "text/plain": [
       "0.176470588"
      ]
     },
     "execution_count": 19,
     "metadata": {},
     "output_type": "execute_result"
    }
   ],
   "source": [
    "#Start of CDF calculations\n",
    "testingx_2L=np.sort(df_2L[\"ratio\"])\n",
    "testingy_2L = 1 * np.arange(len(df_2L[\"ratio\"]))/(len(df_2L[\"ratio\"]-1))\n",
    "\n",
    "i = np.argwhere(testingy_2L >= 0.8)\n",
    "\n",
    "testingx_2L[i.ravel()].min()"
   ]
  },
  {
   "cell_type": "code",
   "execution_count": 20,
   "metadata": {},
   "outputs": [
    {
     "data": {
      "text/plain": [
       "0.321428571"
      ]
     },
     "execution_count": 20,
     "metadata": {},
     "output_type": "execute_result"
    }
   ],
   "source": [
    "testingx_2R=np.sort(df_2R[\"ratio\"])\n",
    "testingy_2R = 1 * np.arange(len(df_2R[\"ratio\"]))/(len(df_2R[\"ratio\"]-1))\n",
    "\n",
    "j = np.argwhere(testingy_2R >= 0.8)\n",
    "\n",
    "testingx_2R[j.ravel()].min()"
   ]
  },
  {
   "cell_type": "code",
   "execution_count": 21,
   "metadata": {},
   "outputs": [
    {
     "data": {
      "text/plain": [
       "0.2"
      ]
     },
     "execution_count": 21,
     "metadata": {},
     "output_type": "execute_result"
    }
   ],
   "source": [
    "testingx_3L=np.sort(df_3L[\"ratio\"])\n",
    "testingy_3L = 1 * np.arange(len(df_3L[\"ratio\"]))/(len(df_3L[\"ratio\"]-1))\n",
    "\n",
    "k = np.argwhere(testingy_3L >= 0.8)\n",
    "\n",
    "testingx_3L[k.ravel()].min()"
   ]
  },
  {
   "cell_type": "code",
   "execution_count": 22,
   "metadata": {},
   "outputs": [
    {
     "data": {
      "text/plain": [
       "0.055555556"
      ]
     },
     "execution_count": 22,
     "metadata": {},
     "output_type": "execute_result"
    }
   ],
   "source": [
    "#allaxe\n",
    "testingx_3R=np.sort(df_3R[\"ratio\"])\n",
    "testingy_3R = 1 * np.arange(len(df_3R[\"ratio\"]))/(len(df_3R[\"ratio\"]-1))\n",
    "\n",
    "l = np.argwhere(testingy_3R >= 0.8)\n",
    "\n",
    "testingx_3R[l.ravel()].min()"
   ]
  },
  {
   "cell_type": "code",
   "execution_count": 23,
   "metadata": {},
   "outputs": [
    {
     "data": {
      "text/plain": [
       "0.052631579"
      ]
     },
     "execution_count": 23,
     "metadata": {},
     "output_type": "execute_result"
    }
   ],
   "source": [
    "testingx_X=np.sort(df_X[\"ratio\"])\n",
    "testingy_X = 1 * np.arange(len(df_X[\"ratio\"]))/(len(df_X[\"ratio\"]-1))\n",
    "\n",
    "m = np.argwhere(testingy_X >= 0.8)\n",
    "\n",
    "testingx_X[m.ravel()].min()"
   ]
  }
 ],
 "metadata": {
  "interpreter": {
   "hash": "c1fea38084ca1a29ef4291c83b38a58ab7adc3ad74c330bf0268bcc7479f7557"
  },
  "kernelspec": {
   "display_name": "Python 3.8.12 ('hybrids')",
   "language": "python",
   "name": "python3"
  },
  "language_info": {
   "codemirror_mode": {
    "name": "ipython",
    "version": 3
   },
   "file_extension": ".py",
   "mimetype": "text/x-python",
   "name": "python",
   "nbconvert_exporter": "python",
   "pygments_lexer": "ipython3",
   "version": "3.8.12"
  },
  "orig_nbformat": 4
 },
 "nbformat": 4,
 "nbformat_minor": 2
}
